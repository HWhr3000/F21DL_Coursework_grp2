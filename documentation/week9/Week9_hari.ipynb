{
 "cells": [
  {
   "cell_type": "code",
   "execution_count": 2,
   "id": "e8e5bf84-24f3-49bf-9dc8-c4599487f356",
   "metadata": {},
   "outputs": [
    {
     "name": "stdout",
     "output_type": "stream",
     "text": [
      "# conda environments:\n",
      "#\n",
      "base                     /opt/anaconda3\n",
      "AIChatbot                /opt/anaconda3/envs/AIChatbot\n",
      "tensorflow_env        *  /opt/anaconda3/envs/tensorflow_env\n",
      "\n"
     ]
    }
   ],
   "source": [
    "!conda info --envs"
   ]
  },
  {
   "cell_type": "code",
   "execution_count": 1,
   "id": "d1bdc104-1aa1-4f02-b47e-368be84a36f1",
   "metadata": {},
   "outputs": [
    {
     "name": "stdout",
     "output_type": "stream",
     "text": [
      "[[-0.46086466  1.08083029  1.48185841 -1.26716478  0.49355045  1.24974804\n",
      "  -0.73686944 -1.38019181  1.13448656 -0.80763248  1.31041661  1.21518363\n",
      "  -0.91849868]\n",
      " [-0.46086466  0.47510465  0.69363437  0.66773433 -0.91820488 -0.98304994\n",
      "  -0.82080344 -0.99984732 -0.99203742 -0.80763248 -0.94755279  0.48830629\n",
      "  -0.30227829]\n",
      " [-0.46086466  0.47510465  0.69363437  0.66773433 -0.49467828  0.56796574\n",
      "  -0.29650336  0.53767594  0.55532683  2.65776566  0.62094826  1.32434253\n",
      "  -1.96464567]\n",
      " [ 2.1698344   0.47510465 -0.8828137  -1.67027328  1.76413024 -0.21507242\n",
      "  -0.28155621  1.31015194  1.33652156 -0.80763248  0.62094826 -0.36396608\n",
      "  -1.96464567]\n",
      " [ 2.1698344  -1.42066039 -1.1352965  -1.14057317 -1.12996818 -0.46589409\n",
      "  -0.75411615  0.56783671 -0.47609907  0.92506659 -0.42456678  1.05394422\n",
      "  -0.56852186]] 207018    4\n",
      "204853    2\n",
      "16207     4\n",
      "60758     3\n",
      "122054    1\n",
      "Name: Loyalty, dtype: int64\n"
     ]
    }
   ],
   "source": [
    "import pandas as pd\n",
    "from sklearn.model_selection import train_test_split\n",
    "from sklearn.preprocessing import StandardScaler, LabelEncoder\n",
    "\n",
    "# Load the dataset from the URL\n",
    "data = pd.read_csv('https://raw.githubusercontent.com/HWhr3000/F21DL_Coursework_grp2/main/data/feature_selected_data.csv')\n",
    "\n",
    "# Target variable (Loyalty)\n",
    "target_column = 'Loyalty'\n",
    "\n",
    "# Prepare the data for training\n",
    "X = data.drop(columns=['Loyalty'])\n",
    "y = data['Loyalty']\n",
    "\n",
    "# Split data into training and testing sets\n",
    "X_train, X_test, y_train, y_test = train_test_split(X, y, test_size=0.2, random_state=42)\n",
    "\n",
    "# Standardize the feature data\n",
    "scaler = StandardScaler()\n",
    "X_train = scaler.fit_transform(X_train)\n",
    "X_test = scaler.transform(X_test)\n",
    "\n",
    "# Display a sample of the preprocessed data\n",
    "print(X_train[:5], y_train[:5])\n"
   ]
  },
  {
   "cell_type": "code",
   "execution_count": null,
   "id": "bdf8d33a-b6f6-4b23-ba2b-b13fec8aa501",
   "metadata": {},
   "outputs": [],
   "source": []
  }
 ],
 "metadata": {
  "kernelspec": {
   "display_name": "Python (tensorflow_env)",
   "language": "python",
   "name": "tensorflow_env"
  },
  "language_info": {
   "codemirror_mode": {
    "name": "ipython",
    "version": 3
   },
   "file_extension": ".py",
   "mimetype": "text/x-python",
   "name": "python",
   "nbconvert_exporter": "python",
   "pygments_lexer": "ipython3",
   "version": "3.10.14"
  }
 },
 "nbformat": 4,
 "nbformat_minor": 5
}
